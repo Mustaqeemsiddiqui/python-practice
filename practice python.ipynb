{
 "cells": [
  {
   "cell_type": "markdown",
   "id": "75032445-0447-49b9-954f-3b6644a5e364",
   "metadata": {},
   "source": [
    "1+3+56"
   ]
  },
  {
   "cell_type": "code",
   "execution_count": null,
   "id": "4a8753d8-11a3-4c08-a7c5-239f4e787e74",
   "metadata": {},
   "outputs": [],
   "source": []
  },
  {
   "cell_type": "code",
   "execution_count": 2,
   "id": "87bb5ed1-32f7-4a8d-b20c-66f1c2657bc3",
   "metadata": {},
   "outputs": [
    {
     "data": {
      "text/plain": [
       "91"
      ]
     },
     "execution_count": 2,
     "metadata": {},
     "output_type": "execute_result"
    }
   ],
   "source": [
    "1+90"
   ]
  },
  {
   "cell_type": "code",
   "execution_count": 3,
   "id": "e94b48ba-a729-43d0-8c15-574978e88420",
   "metadata": {},
   "outputs": [],
   "source": [
    "a=80"
   ]
  },
  {
   "cell_type": "code",
   "execution_count": 4,
   "id": "e2aecc90-7cf1-4d0f-9cdb-0ff93157ab36",
   "metadata": {},
   "outputs": [
    {
     "data": {
      "text/plain": [
       "80"
      ]
     },
     "execution_count": 4,
     "metadata": {},
     "output_type": "execute_result"
    }
   ],
   "source": [
    "a"
   ]
  },
  {
   "cell_type": "code",
   "execution_count": 5,
   "id": "bb93701a-a01c-47b2-8ce2-f3bd5d49244f",
   "metadata": {},
   "outputs": [],
   "source": [
    "b=70"
   ]
  },
  {
   "cell_type": "code",
   "execution_count": 6,
   "id": "c7c31d0b-f87e-44b1-acc7-e1466d2a5131",
   "metadata": {},
   "outputs": [
    {
     "data": {
      "text/plain": [
       "70"
      ]
     },
     "execution_count": 6,
     "metadata": {},
     "output_type": "execute_result"
    }
   ],
   "source": [
    "b"
   ]
  },
  {
   "cell_type": "code",
   "execution_count": 7,
   "id": "bd573105-8419-40af-9c69-2e2c826833cc",
   "metadata": {},
   "outputs": [
    {
     "data": {
      "text/plain": [
       "150"
      ]
     },
     "execution_count": 7,
     "metadata": {},
     "output_type": "execute_result"
    }
   ],
   "source": [
    "a+b"
   ]
  },
  {
   "cell_type": "code",
   "execution_count": 8,
   "id": "8d2b1085-99f7-4404-943d-2edac2ad945e",
   "metadata": {},
   "outputs": [
    {
     "data": {
      "text/plain": [
       "int"
      ]
     },
     "execution_count": 8,
     "metadata": {},
     "output_type": "execute_result"
    }
   ],
   "source": [
    "type(a)"
   ]
  },
  {
   "cell_type": "code",
   "execution_count": 9,
   "id": "feb673aa-38ef-49ce-b225-44bdfdede3fe",
   "metadata": {},
   "outputs": [],
   "source": [
    "must=30*6"
   ]
  },
  {
   "cell_type": "code",
   "execution_count": 11,
   "id": "04243f02-a59d-4097-a35f-d1f19570df94",
   "metadata": {},
   "outputs": [
    {
     "data": {
      "text/plain": [
       "180"
      ]
     },
     "execution_count": 11,
     "metadata": {},
     "output_type": "execute_result"
    }
   ],
   "source": [
    "must"
   ]
  },
  {
   "cell_type": "code",
   "execution_count": 12,
   "id": "778e510d-d8f9-4899-9580-befb1a46a962",
   "metadata": {},
   "outputs": [
    {
     "data": {
      "text/plain": [
       "330"
      ]
     },
     "execution_count": 12,
     "metadata": {},
     "output_type": "execute_result"
    }
   ],
   "source": [
    "a+b+must"
   ]
  },
  {
   "cell_type": "code",
   "execution_count": 13,
   "id": "4c20b16e-da68-4322-a220-ebad27273589",
   "metadata": {},
   "outputs": [
    {
     "data": {
      "text/plain": [
       "int"
      ]
     },
     "execution_count": 13,
     "metadata": {},
     "output_type": "execute_result"
    }
   ],
   "source": [
    "type(a+b+must)"
   ]
  },
  {
   "cell_type": "code",
   "execution_count": 14,
   "id": "0f60432c-ba49-45b7-b5e2-83c0ab644cd4",
   "metadata": {},
   "outputs": [],
   "source": [
    "c=7.098"
   ]
  },
  {
   "cell_type": "code",
   "execution_count": 15,
   "id": "e44761a8-755a-4fe9-8c4f-4a95749e1667",
   "metadata": {},
   "outputs": [
    {
     "data": {
      "text/plain": [
       "7.098"
      ]
     },
     "execution_count": 15,
     "metadata": {},
     "output_type": "execute_result"
    }
   ],
   "source": [
    "c"
   ]
  },
  {
   "cell_type": "code",
   "execution_count": 16,
   "id": "2f195890-e62c-4be4-bea9-39d078bd9c19",
   "metadata": {},
   "outputs": [
    {
     "data": {
      "text/plain": [
       "float"
      ]
     },
     "execution_count": 16,
     "metadata": {},
     "output_type": "execute_result"
    }
   ],
   "source": [
    "type(c)"
   ]
  },
  {
   "cell_type": "code",
   "execution_count": 17,
   "id": "1029f68d-cf71-49e0-91d4-75ce58186b4c",
   "metadata": {},
   "outputs": [],
   "source": [
    "d=8.9909"
   ]
  },
  {
   "cell_type": "code",
   "execution_count": 18,
   "id": "9e020055-f66c-4b41-92c5-d50244113b38",
   "metadata": {},
   "outputs": [
    {
     "data": {
      "text/plain": [
       "8.9909"
      ]
     },
     "execution_count": 18,
     "metadata": {},
     "output_type": "execute_result"
    }
   ],
   "source": [
    "d"
   ]
  },
  {
   "cell_type": "code",
   "execution_count": 19,
   "id": "6b5f33c9-259e-4c75-98bd-46db5ce9f1fb",
   "metadata": {},
   "outputs": [
    {
     "data": {
      "text/plain": [
       "float"
      ]
     },
     "execution_count": 19,
     "metadata": {},
     "output_type": "execute_result"
    }
   ],
   "source": [
    "type(d)"
   ]
  },
  {
   "cell_type": "code",
   "execution_count": 20,
   "id": "3339453b-e638-486d-aad1-07f5faff2509",
   "metadata": {},
   "outputs": [],
   "source": [
    "e=\"mustaqeem\""
   ]
  },
  {
   "cell_type": "code",
   "execution_count": 21,
   "id": "a398acb0-cbdc-41f8-bce3-c18ede0039cd",
   "metadata": {},
   "outputs": [
    {
     "data": {
      "text/plain": [
       "str"
      ]
     },
     "execution_count": 21,
     "metadata": {},
     "output_type": "execute_result"
    }
   ],
   "source": [
    "type(e)"
   ]
  },
  {
   "cell_type": "code",
   "execution_count": 22,
   "id": "e6cf7a97-fcc3-41cd-b042-2c50d146539c",
   "metadata": {},
   "outputs": [],
   "source": [
    "f='this is my first python class'"
   ]
  },
  {
   "cell_type": "code",
   "execution_count": 28,
   "id": "bd90c6f3-e8f9-4896-9584-f947e1a5242b",
   "metadata": {},
   "outputs": [
    {
     "data": {
      "text/plain": [
       "str"
      ]
     },
     "execution_count": 28,
     "metadata": {},
     "output_type": "execute_result"
    }
   ],
   "source": [
    "type(f)"
   ]
  },
  {
   "cell_type": "code",
   "execution_count": 29,
   "id": "cf07aa97-965d-4788-9e35-52ed1232a9ca",
   "metadata": {},
   "outputs": [
    {
     "ename": "NameError",
     "evalue": "name 'true' is not defined",
     "output_type": "error",
     "traceback": [
      "\u001b[0;31m---------------------------------------------------------------------------\u001b[0m",
      "\u001b[0;31mNameError\u001b[0m                                 Traceback (most recent call last)",
      "Cell \u001b[0;32mIn[29], line 1\u001b[0m\n\u001b[0;32m----> 1\u001b[0m g\u001b[38;5;241m=\u001b[39m\u001b[43mtrue\u001b[49m\n",
      "\u001b[0;31mNameError\u001b[0m: name 'true' is not defined"
     ]
    }
   ],
   "source": [
    "g=true"
   ]
  },
  {
   "cell_type": "code",
   "execution_count": null,
   "id": "9d279426-d1ec-4561-8051-fb7748a2bbce",
   "metadata": {},
   "outputs": [],
   "source": []
  }
 ],
 "metadata": {
  "kernelspec": {
   "display_name": "Python 3 (ipykernel)",
   "language": "python",
   "name": "python3"
  },
  "language_info": {
   "codemirror_mode": {
    "name": "ipython",
    "version": 3
   },
   "file_extension": ".py",
   "mimetype": "text/x-python",
   "name": "python",
   "nbconvert_exporter": "python",
   "pygments_lexer": "ipython3",
   "version": "3.10.8"
  }
 },
 "nbformat": 4,
 "nbformat_minor": 5
}
